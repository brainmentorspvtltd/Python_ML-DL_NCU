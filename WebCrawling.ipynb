{
 "cells": [
  {
   "cell_type": "code",
   "execution_count": 1,
   "metadata": {
    "collapsed": true
   },
   "outputs": [],
   "source": [
    "import bs4\n",
    "import urllib.request"
   ]
  },
  {
   "cell_type": "code",
   "execution_count": 5,
   "metadata": {},
   "outputs": [],
   "source": [
    "# url = urllib.request.urlopen('https://www.amazon.in/s/ref=nb_sb_noss_2?url=search-alias%3Daps&field-keywords=iphone')\n",
    "url = urllib.request.urlopen('http://www.ncuindia.edu/schools/computer-science-engineering/')"
   ]
  },
  {
   "cell_type": "code",
   "execution_count": 6,
   "metadata": {
    "collapsed": true
   },
   "outputs": [],
   "source": [
    "bs = bs4.BeautifulSoup(url, 'lxml')"
   ]
  },
  {
   "cell_type": "code",
   "execution_count": 9,
   "metadata": {
    "collapsed": true
   },
   "outputs": [],
   "source": [
    "data = bs.find_all('div', class_='facnt')"
   ]
  },
  {
   "cell_type": "code",
   "execution_count": 11,
   "metadata": {},
   "outputs": [],
   "source": [
    "# print(data)"
   ]
  },
  {
   "cell_type": "code",
   "execution_count": 15,
   "metadata": {},
   "outputs": [
    {
     "name": "stdout",
     "output_type": "stream",
     "text": [
      "Dr. Vijendra Singh\r\n",
      "\t\t\t\t\t\t\t\t\t\t\t\t\tAssociate Professor, PhD\n",
      "Dr. Jyostna Singh\r\n",
      "\t\t\t\t\t\t\t\t\t\t\t\t\tAssistant Professor, PhD\n",
      "Dr Rita Chhikara\r\n",
      "\t\t\t\t\t\t\t\t\t\t\t\t\tAssistant Professor, PhD\n",
      "Dr Supriya Raheja\r\n",
      "\t\t\t\t\t\t\t\t\t\t\t\t\tAssistant Professor, PhD\n",
      "Ms Anuradha\r\n",
      "\t\t\t\t\t\t\t\t\t\t\t\t\tAssistant Professor, PhD\n",
      "Dr. Kavita Khanna\n",
      "HOD & Associate Professor\n",
      "Dr. Prachi\n",
      "Associate Professor\n",
      "Dr. Vijendra Singh\n",
      "Associate Professor\n",
      "Dr. Jagdeep Kaur\n",
      "Assistant Professor\n",
      "Dr. Jyostna Singh\n",
      "Assistant Professor\n",
      "Dr Jyoti Sahni\n",
      "Assistant Professor\n",
      "Dr. Rita Chhikara\n",
      "Assistant Professor\n",
      "Dr. Shilpa Mahajan\n",
      "Assistant Professor\n",
      "Dr. Sumanlata Gautam\n",
      "Assistant Professor\n",
      "Dr. Supriya Raheja\n",
      "Assistant Professor\n",
      "Dr. Yogita Gigras\n",
      "Assistant Professor\n",
      "Ms. Anuradha\n",
      "Assistant Professor\n",
      "Ms. Garima Sharma\n",
      "Assistant Professor\n",
      "Ms. Geetika Munjal\n",
      "Assistant Professor\n",
      "Ms. Hitesh Yadav\n",
      "Assistant Professor\n",
      "Ms. Jyotika Pruthi\n",
      "Assistant Professor\n",
      "Ms. Meghna Sharma\n",
      "Assistant Professor\n",
      "Ms. Mehak Khurana\n",
      "Assistant Professor\n",
      "Ms. Neeti Kashyap\n",
      "Assistant Professor\n",
      "Ms. Prerna Singal\n",
      "Assistant Professor\n",
      "Ms. Priyanka Rastogi\n",
      "Assistant Professor\n",
      "Mr. Sandeep Singh\n",
      "Assistant Professor\n",
      "Ms. Suman Bhatia\n",
      "Assistant Professor\n",
      "Ms. Kanika\n",
      "Assistant Professor\n"
     ]
    }
   ],
   "source": [
    "for d in data:\n",
    "    print(d.text.strip())"
   ]
  },
  {
   "cell_type": "code",
   "execution_count": 58,
   "metadata": {},
   "outputs": [],
   "source": [
    "data = bs.find_all('div', class_='facnt')"
   ]
  },
  {
   "cell_type": "code",
   "execution_count": 59,
   "metadata": {},
   "outputs": [
    {
     "data": {
      "text/plain": [
       "[<div class=\"facnt\">\n",
       " \t\t\t\t\t\t\t\t\t\t\t\t\tDr. Vijendra Singh\n",
       " \t\t\t\t\t\t\t\t\t\t\t\t\t<span>Associate Professor, PhD</span>\n",
       " </div>, <div class=\"facnt\">\n",
       " \t\t\t\t\t\t\t\t\t\t\t\t\tDr. Jyostna Singh\n",
       " \t\t\t\t\t\t\t\t\t\t\t\t\t<span>Assistant Professor, PhD</span>\n",
       " </div>, <div class=\"facnt\">\n",
       " \t\t\t\t\t\t\t\t\t\t\t\t\tDr Rita Chhikara\n",
       " \t\t\t\t\t\t\t\t\t\t\t\t\t<span>Assistant Professor, PhD</span>\n",
       " </div>, <div class=\"facnt\">\n",
       " \t\t\t\t\t\t\t\t\t\t\t\t\tDr Supriya Raheja\n",
       " \t\t\t\t\t\t\t\t\t\t\t\t\t<span>Assistant Professor, PhD</span>\n",
       " </div>, <div class=\"facnt\">\n",
       " \t\t\t\t\t\t\t\t\t\t\t\t\tMs Anuradha\n",
       " \t\t\t\t\t\t\t\t\t\t\t\t\t<span>Assistant Professor, PhD</span>\n",
       " </div>, <div class=\"facnt\">\n",
       " <a href=\"kavita-khanna/\">Dr. Kavita Khanna</a>\n",
       " <span>HOD &amp; Associate Professor</span>\n",
       " </div>, <div class=\"facnt\">\n",
       " <a href=\"prachi/\">Dr. Prachi</a>\n",
       " <span>Associate Professor</span>\n",
       " </div>, <div class=\"facnt\">\n",
       " <a href=\"vijendra-singh/\">Dr. Vijendra Singh</a>\n",
       " <span>Associate Professor</span>\n",
       " </div>, <div class=\"facnt\">\n",
       " <a href=\"jagdeep-kaur/\">Dr. Jagdeep Kaur</a>\n",
       " <span>Assistant Professor</span>\n",
       " </div>, <div class=\"facnt\">\n",
       " <a href=\"jyotsna-singh/\">Dr. Jyostna Singh</a>\n",
       " <span>Assistant Professor</span>\n",
       " </div>, <div class=\"facnt\">\n",
       " <a href=\"jyoti-sahni/\">Dr Jyoti Sahni</a>\n",
       " <span>Assistant Professor</span>\n",
       " </div>, <div class=\"facnt\">\n",
       " <a href=\"Rita-Chhikara/\">Dr. Rita Chhikara</a>\n",
       " <span>Assistant Professor</span>\n",
       " </div>, <div class=\"facnt\">\n",
       " <a href=\"shilpa-mahajan/\">Dr. Shilpa Mahajan</a>\n",
       " <span>Assistant Professor</span>\n",
       " </div>, <div class=\"facnt\">\n",
       " <a href=\"sumanlata-gautam/\">Dr. Sumanlata Gautam</a>\n",
       " <span>Assistant Professor</span>\n",
       " </div>, <div class=\"facnt\">\n",
       " <a href=\"supriya-raheja/\">Dr. Supriya Raheja</a>\n",
       " <span>Assistant Professor</span>\n",
       " </div>, <div class=\"facnt\">\n",
       " <a href=\"yogita-gagras/\">Dr. Yogita Gigras</a>\n",
       " <span>Assistant Professor</span>\n",
       " </div>, <div class=\"facnt\">\n",
       " <a href=\"anuradha/\">Ms. Anuradha</a>\n",
       " <span>Assistant Professor</span>\n",
       " </div>, <div class=\"facnt\">\n",
       " <a href=\"garima-sharma/\">Ms. Garima Sharma</a>\n",
       " <span>Assistant Professor</span>\n",
       " </div>, <div class=\"facnt\">\n",
       " <a href=\"geetika-munjal/\">Ms. Geetika Munjal</a>\n",
       " <span>Assistant Professor</span>\n",
       " </div>, <div class=\"facnt\">\n",
       " <a href=\"hitesh-yadav/\">Ms. Hitesh Yadav</a>\n",
       " <span>Assistant Professor</span>\n",
       " </div>, <div class=\"facnt\">\n",
       " <a href=\"jyotika-pruthi/\">Ms. Jyotika Pruthi</a>\n",
       " <span>Assistant Professor</span>\n",
       " </div>, <div class=\"facnt\">\n",
       " <a href=\"meghna-sharma/\">Ms. Meghna Sharma</a>\n",
       " <span>Assistant Professor</span>\n",
       " </div>, <div class=\"facnt\">\n",
       " <a href=\"mehak-khurana/\">Ms. Mehak Khurana</a>\n",
       " <span>Assistant Professor</span>\n",
       " </div>, <div class=\"facnt\">\n",
       " <a href=\"neeti-kashyap/\">Ms. Neeti Kashyap</a>\n",
       " <span>Assistant Professor</span>\n",
       " </div>, <div class=\"facnt\">\n",
       " <a href=\"prerna-singal/\">Ms. Prerna Singal</a>\n",
       " <span>Assistant Professor</span>\n",
       " </div>, <div class=\"facnt\">\n",
       " <a href=\"priyanka-rastogi/\">Ms. Priyanka Rastogi</a>\n",
       " <span>Assistant Professor</span>\n",
       " </div>, <div class=\"facnt\">\n",
       " <a href=\"sandeep-singh/\">Mr. Sandeep Singh</a>\n",
       " <span>Assistant Professor</span>\n",
       " </div>, <div class=\"facnt\">\n",
       " <a href=\"suman-bhatia/\">Ms. Suman Bhatia</a>\n",
       " <span>Assistant Professor</span>\n",
       " </div>, <div class=\"facnt\">\n",
       " <a href=\"kanika/\">Ms. Kanika</a>\n",
       " <span>Assistant Professor</span>\n",
       " </div>]"
      ]
     },
     "execution_count": 59,
     "metadata": {},
     "output_type": "execute_result"
    }
   ],
   "source": [
    "data"
   ]
  },
  {
   "cell_type": "code",
   "execution_count": 33,
   "metadata": {},
   "outputs": [],
   "source": [
    "x = data[5]"
   ]
  },
  {
   "cell_type": "code",
   "execution_count": 56,
   "metadata": {},
   "outputs": [
    {
     "data": {
      "text/plain": [
       "'<div class=\"facnt\">\\n<a href=\"kavita-khanna/\">Dr. Kavita Khanna</a>\\n<span>HOD &amp; Associate Professor</span>\\n</div>'"
      ]
     },
     "execution_count": 56,
     "metadata": {},
     "output_type": "execute_result"
    }
   ],
   "source": [
    "x"
   ]
  },
  {
   "cell_type": "code",
   "execution_count": 41,
   "metadata": {},
   "outputs": [],
   "source": [
    "x = str(x)\n",
    "# data[6]"
   ]
  },
  {
   "cell_type": "code",
   "execution_count": 44,
   "metadata": {},
   "outputs": [
    {
     "data": {
      "text/plain": [
       "29"
      ]
     },
     "execution_count": 44,
     "metadata": {},
     "output_type": "execute_result"
    }
   ],
   "source": [
    "x.find('k')"
   ]
  },
  {
   "cell_type": "code",
   "execution_count": 46,
   "metadata": {},
   "outputs": [],
   "source": [
    "faculty_name = x[29:42]"
   ]
  },
  {
   "cell_type": "code",
   "execution_count": 49,
   "metadata": {
    "collapsed": true
   },
   "outputs": [],
   "source": [
    "new_url = 'http://www.ncuindia.edu/schools/computer-science-engineering/'+faculty_name"
   ]
  },
  {
   "cell_type": "code",
   "execution_count": 50,
   "metadata": {},
   "outputs": [],
   "source": [
    "url_2 = urllib.request.urlopen(new_url)"
   ]
  },
  {
   "cell_type": "code",
   "execution_count": 51,
   "metadata": {
    "collapsed": true
   },
   "outputs": [],
   "source": [
    "bs_2 = bs4.BeautifulSoup(url_2, 'lxml')"
   ]
  },
  {
   "cell_type": "code",
   "execution_count": 52,
   "metadata": {
    "collapsed": true
   },
   "outputs": [],
   "source": [
    "new_data = bs_2.find_all('div', class_='leadershp')"
   ]
  },
  {
   "cell_type": "code",
   "execution_count": 55,
   "metadata": {},
   "outputs": [
    {
     "name": "stdout",
     "output_type": "stream",
     "text": [
      "Dr Kavita Khanna\r\n",
      "HOD & Associate ProfessorPhD, Guru Gobind Singh Indraprastha University, Dwarka, New Delhi.\n",
      "\n",
      "\n",
      "\n",
      "\n",
      "Dr Kavita Khanna has 16 years of teaching, administration and research experience. Currently she is an Associate Professor with The NorthCap University. She has done her PhD from Guru Gobind Singh Indraprastha University, Dwarka, New Delhi. She has to her credit more than 30 publications in reputed journals and conferences including Elsevier, Springer and Taylor & Francis. She has guided 18 M.Tech students in their research work. Her research areas include artificial neural networks, digital image processing, computer graphics and design and analysis of algorithms. She is a versatile person. Apart from teaching and research she has pursued her interest in music and people by working as a Radio Jockey with All India Radio FM Gold for last 14 years. She believes that there is no end to learning and this motivates her to attend various National and International Conferences, Workshops and Faculty Development Programs.\n",
      "Area of Expertise: Computer Graphics; Video Processing and Soft Computing\n"
     ]
    }
   ],
   "source": [
    "for data in new_data:\n",
    "    print(data.text.strip())"
   ]
  },
  {
   "cell_type": "code",
   "execution_count": null,
   "metadata": {
    "collapsed": true
   },
   "outputs": [],
   "source": []
  }
 ],
 "metadata": {
  "kernelspec": {
   "display_name": "Python 3",
   "language": "python",
   "name": "python3"
  },
  "language_info": {
   "codemirror_mode": {
    "name": "ipython",
    "version": 3
   },
   "file_extension": ".py",
   "mimetype": "text/x-python",
   "name": "python",
   "nbconvert_exporter": "python",
   "pygments_lexer": "ipython3",
   "version": "3.5.4"
  }
 },
 "nbformat": 4,
 "nbformat_minor": 2
}
