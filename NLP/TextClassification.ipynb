{
 "cells": [
  {
   "cell_type": "code",
   "execution_count": 1,
   "metadata": {
    "collapsed": true
   },
   "outputs": [],
   "source": [
    "from sklearn.datasets import fetch_20newsgroups\n",
    "from sklearn.naive_bayes import MultinomialNB"
   ]
  },
  {
   "cell_type": "code",
   "execution_count": 3,
   "metadata": {},
   "outputs": [],
   "source": [
    "category_map = {\n",
    "     'rec.autos' : 'Auto',\n",
    "     'rec.motorcycles' : 'Motorcycle',\n",
    "     'rec.sport.baseball' : 'Baseball',\n",
    "     'rec.sport.hockey' : 'Hockey',\n",
    "     'sci.crypt' : 'Cryptography',\n",
    "     'sci.electronics' : 'Electronics',\n",
    "     'sci.med' : 'Medical',\n",
    "     'sci.space' : 'Space'\n",
    "}\n",
    "training_data = fetch_20newsgroups(subset='train', \n",
    "                                   categories=category_map.keys())"
   ]
  },
  {
   "cell_type": "code",
   "execution_count": 5,
   "metadata": {},
   "outputs": [
    {
     "data": {
      "text/plain": [
       "array([7, 5, 0, ..., 6, 0, 2], dtype=int64)"
      ]
     },
     "execution_count": 5,
     "metadata": {},
     "output_type": "execute_result"
    }
   ],
   "source": [
    "training_data.target"
   ]
  },
  {
   "cell_type": "code",
   "execution_count": 6,
   "metadata": {},
   "outputs": [
    {
     "data": {
      "text/plain": [
       "['rec.autos',\n",
       " 'rec.motorcycles',\n",
       " 'rec.sport.baseball',\n",
       " 'rec.sport.hockey',\n",
       " 'sci.crypt',\n",
       " 'sci.electronics',\n",
       " 'sci.med',\n",
       " 'sci.space']"
      ]
     },
     "execution_count": 6,
     "metadata": {},
     "output_type": "execute_result"
    }
   ],
   "source": [
    "training_data.target_names"
   ]
  },
  {
   "cell_type": "code",
   "execution_count": 7,
   "metadata": {
    "collapsed": true
   },
   "outputs": [],
   "source": [
    "from sklearn.feature_extraction.text import CountVectorizer, \n",
    "TfidfTransformer"
   ]
  },
  {
   "cell_type": "code",
   "execution_count": 14,
   "metadata": {},
   "outputs": [],
   "source": [
    "# training_data.data"
   ]
  },
  {
   "cell_type": "code",
   "execution_count": 8,
   "metadata": {},
   "outputs": [
    {
     "name": "stdout",
     "output_type": "stream",
     "text": [
      "Dimensions of training data (4762, 55472)\n"
     ]
    }
   ],
   "source": [
    "vect = CountVectorizer()\n",
    "x_train = vect.fit_transform(training_data.data)\n",
    "print(\"Dimensions of training data\",x_train.shape)"
   ]
  },
  {
   "cell_type": "code",
   "execution_count": 9,
   "metadata": {
    "collapsed": true
   },
   "outputs": [],
   "source": [
    "input_data = [\n",
    "    \"I was watching the game where few players was running behind a ball with a stick and there was one goalkeeper in each team.\",\n",
    "    \"Apple is going to launch there new gadget in next month\",\n",
    "    \"Treatment for cancer is now easy because of new medicine launched yesterday\",\n",
    "    \"NASA is planning another satellite launch with the help of SpaceX\"\n",
    "]"
   ]
  },
  {
   "cell_type": "code",
   "execution_count": 10,
   "metadata": {
    "collapsed": true
   },
   "outputs": [],
   "source": [
    "tfidf = TfidfTransformer()\n",
    "x_train_tfidf = tfidf.fit_transform(x_train)\n",
    "\n",
    "clf = MultinomialNB()\n",
    "clf.fit(x_train_tfidf, training_data.target)\n",
    "\n",
    "x_input_termcounts = vect.transform(input_data)\n",
    "x_input_tfidf = tfidf.transform(x_input_termcounts)"
   ]
  },
  {
   "cell_type": "code",
   "execution_count": 11,
   "metadata": {
    "collapsed": true
   },
   "outputs": [],
   "source": [
    "predicted_categories = clf.predict(x_input_tfidf)"
   ]
  },
  {
   "cell_type": "code",
   "execution_count": 12,
   "metadata": {},
   "outputs": [
    {
     "name": "stdout",
     "output_type": "stream",
     "text": [
      "\n",
      "Input I was watching the game where few players was running behind a ball with a stick and there was one goalkeeper in each team. \n",
      "Prediction Baseball\n",
      "\n",
      "Input Apple is going to launch there new gadget in next month \n",
      "Prediction Space\n",
      "\n",
      "Input Treatment for cancer is now easy because of new medicine launched yesterday \n",
      "Prediction Medical\n",
      "\n",
      "Input NASA is planning another satellite launch with the help of SpaceX \n",
      "Prediction Space\n"
     ]
    }
   ],
   "source": [
    "for sentence, category in zip(input_data, predicted_categories):\n",
    "    print(\"\\nInput :\",sentence,\"\\nPrediction :\",\n",
    "          category_map[training_data.target_names[category]])\n",
    "\n",
    "# category_map[training_data.target_names['rec.sport.baseball']]"
   ]
  },
  {
   "cell_type": "code",
   "execution_count": null,
   "metadata": {
    "collapsed": true
   },
   "outputs": [],
   "source": []
  }
 ],
 "metadata": {
  "kernelspec": {
   "display_name": "Python 3",
   "language": "python",
   "name": "python3"
  },
  "language_info": {
   "codemirror_mode": {
    "name": "ipython",
    "version": 3
   },
   "file_extension": ".py",
   "mimetype": "text/x-python",
   "name": "python",
   "nbconvert_exporter": "python",
   "pygments_lexer": "ipython3",
   "version": "3.5.4"
  }
 },
 "nbformat": 4,
 "nbformat_minor": 2
}
